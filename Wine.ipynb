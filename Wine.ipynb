{
 "cells": [
  {
   "cell_type": "code",
   "execution_count": 15,
   "source": [
    "%load_ext autoreload\r\n",
    "%autoreload 2\r\n",
    "import numpy as np"
   ],
   "outputs": [
    {
     "output_type": "stream",
     "name": "stdout",
     "text": [
      "The autoreload extension is already loaded. To reload it, use:\n",
      "  %reload_ext autoreload\n"
     ]
    }
   ],
   "metadata": {}
  },
  {
   "cell_type": "markdown",
   "source": [
    "# Wine quality prediction"
   ],
   "metadata": {}
  },
  {
   "cell_type": "markdown",
   "source": [
    "In this notebook it is your task to implement linear regression as discussed in the lecture using NumPy.\n",
    "\n",
    "The wine dataset is provided by:\n",
    "<br>\n",
    "P. Cortez, A. Cerdeira, F. Almeida, T. Matos and J. Reis: \"Modeling wine preferences by data mining from physicochemical properties\", in Decision Support Systems, Elsevier, 47(4):547-553, 2009. The dataset is available at http://www3.dsi.uminho.pt/pcortez/wine/. The data"
   ],
   "metadata": {}
  },
  {
   "cell_type": "markdown",
   "source": [
    "Implement the functions ```load_data```, ```fit```, ```predict``` and ```energy``` according to the instructions in ```linear_regression.py```. Test your code by running the cells below."
   ],
   "metadata": {}
  },
  {
   "cell_type": "code",
   "execution_count": 16,
   "source": [
    "import linreg # import your code"
   ],
   "outputs": [],
   "metadata": {}
  },
  {
   "cell_type": "markdown",
   "source": [
    "First, load the data matirces from the ```.csv``` files:"
   ],
   "metadata": {}
  },
  {
   "cell_type": "code",
   "execution_count": 17,
   "source": [
    "num_train = 3674\r\n",
    "num_test = 1224\r\n",
    "path = \"winequality/winequality-white.csv\"\r\n",
    "\r\n",
    "# load data matrices\r\n",
    "X_train, Y_train, X_test, Y_test = linreg.load_data(path, num_train)"
   ],
   "outputs": [],
   "metadata": {}
  },
  {
   "cell_type": "markdown",
   "source": [
    "Throughout this course we will provide you with assertion blocks like the following testing your implementation. If those assertions throw an error your code doesn't behave as expected. If there is no output, your code is very likely correct! However, we will use different data for the final grading, so this is no guarantee."
   ],
   "metadata": {}
  },
  {
   "cell_type": "code",
   "execution_count": 18,
   "source": [
    "# test your implementation\r\n",
    "assert X_train.shape == (3674, 11), \"Wrong shape of X_train!\"\r\n",
    "assert X_train[2, 3] == 6.9, \"Wrong data in X_train!\""
   ],
   "outputs": [],
   "metadata": {}
  },
  {
   "cell_type": "markdown",
   "source": [
    "Now let's fit a linear regression model to the data"
   ],
   "metadata": {}
  },
  {
   "cell_type": "code",
   "execution_count": 19,
   "source": [
    "# fit training data\r\n",
    "theta = linreg.fit(X_train, Y_train)\r\n",
    "\r\n",
    "print(\"Fitted weights:\")\r\n",
    "print(theta)"
   ],
   "outputs": [
    {
     "output_type": "stream",
     "name": "stdout",
     "text": [
      "Fitted weights:\n",
      "[[23.32963636]\n",
      " [15.35209091]\n",
      " [14.32046364]\n",
      " ...\n",
      " [14.07779182]\n",
      " [11.55735364]\n",
      " [13.04785636]]\n"
     ]
    }
   ],
   "metadata": {}
  },
  {
   "cell_type": "code",
   "execution_count": 21,
   "source": [
    "# test your implementation\r\n",
    "np.random.seed(0)\r\n",
    "X_ass = np.random.randn(10, 5)\r\n",
    "Y_ass = np.random.randn(10)\r\n",
    "theta_ass = linreg.fit(X_ass, Y_ass)\r\n",
    "assert np.abs(theta_ass[0] + 0.20) <= 1e-2, \"Wrong value of theta!\""
   ],
   "outputs": [
    {
     "output_type": "error",
     "ename": "TypeError",
     "evalue": "'numpy.float64' object does not support item assignment",
     "traceback": [
      "\u001b[1;31m---------------------------------------------------------------------------\u001b[0m",
      "\u001b[1;31mTypeError\u001b[0m                                 Traceback (most recent call last)",
      "\u001b[1;32m<ipython-input-21-f1ca2577084a>\u001b[0m in \u001b[0;36m<module>\u001b[1;34m\u001b[0m\n\u001b[0;32m      3\u001b[0m \u001b[0mX_ass\u001b[0m \u001b[1;33m=\u001b[0m \u001b[0mnp\u001b[0m\u001b[1;33m.\u001b[0m\u001b[0mrandom\u001b[0m\u001b[1;33m.\u001b[0m\u001b[0mrandn\u001b[0m\u001b[1;33m(\u001b[0m\u001b[1;36m10\u001b[0m\u001b[1;33m,\u001b[0m \u001b[1;36m5\u001b[0m\u001b[1;33m)\u001b[0m\u001b[1;33m\u001b[0m\u001b[1;33m\u001b[0m\u001b[0m\n\u001b[0;32m      4\u001b[0m \u001b[0mY_ass\u001b[0m \u001b[1;33m=\u001b[0m \u001b[0mnp\u001b[0m\u001b[1;33m.\u001b[0m\u001b[0mrandom\u001b[0m\u001b[1;33m.\u001b[0m\u001b[0mrandn\u001b[0m\u001b[1;33m(\u001b[0m\u001b[1;36m10\u001b[0m\u001b[1;33m)\u001b[0m\u001b[1;33m\u001b[0m\u001b[1;33m\u001b[0m\u001b[0m\n\u001b[1;32m----> 5\u001b[1;33m \u001b[0mtheta_ass\u001b[0m \u001b[1;33m=\u001b[0m \u001b[0mlinreg\u001b[0m\u001b[1;33m.\u001b[0m\u001b[0mfit\u001b[0m\u001b[1;33m(\u001b[0m\u001b[0mX_ass\u001b[0m\u001b[1;33m,\u001b[0m \u001b[0mY_ass\u001b[0m\u001b[1;33m)\u001b[0m\u001b[1;33m\u001b[0m\u001b[1;33m\u001b[0m\u001b[0m\n\u001b[0m\u001b[0;32m      6\u001b[0m \u001b[1;32massert\u001b[0m \u001b[0mnp\u001b[0m\u001b[1;33m.\u001b[0m\u001b[0mabs\u001b[0m\u001b[1;33m(\u001b[0m\u001b[0mtheta_ass\u001b[0m\u001b[1;33m[\u001b[0m\u001b[1;36m0\u001b[0m\u001b[1;33m]\u001b[0m \u001b[1;33m+\u001b[0m \u001b[1;36m0.20\u001b[0m\u001b[1;33m)\u001b[0m \u001b[1;33m<=\u001b[0m \u001b[1;36m1e-2\u001b[0m\u001b[1;33m,\u001b[0m \u001b[1;34m\"Wrong value of theta!\"\u001b[0m\u001b[1;33m\u001b[0m\u001b[1;33m\u001b[0m\u001b[0m\n",
      "\u001b[1;32md:\\Projects\\Exercise_1\\linreg.py\u001b[0m in \u001b[0;36mfit\u001b[1;34m(X, Y)\u001b[0m\n\u001b[0;32m     53\u001b[0m \u001b[1;33m\u001b[0m\u001b[0m\n\u001b[0;32m     54\u001b[0m     \u001b[1;32mfor\u001b[0m \u001b[0mi\u001b[0m\u001b[1;33m,\u001b[0m \u001b[0mrow\u001b[0m \u001b[1;32min\u001b[0m \u001b[0menumerate\u001b[0m\u001b[1;33m(\u001b[0m\u001b[0mX\u001b[0m\u001b[1;33m)\u001b[0m\u001b[1;33m:\u001b[0m\u001b[1;33m\u001b[0m\u001b[1;33m\u001b[0m\u001b[0m\n\u001b[1;32m---> 55\u001b[1;33m             \u001b[0mtheta\u001b[0m\u001b[1;33m[\u001b[0m\u001b[0mi\u001b[0m\u001b[1;33m]\u001b[0m\u001b[1;33m[\u001b[0m\u001b[1;36m0\u001b[0m\u001b[1;33m]\u001b[0m \u001b[1;33m=\u001b[0m \u001b[1;33m(\u001b[0m\u001b[0msum\u001b[0m\u001b[1;33m(\u001b[0m\u001b[0mrow\u001b[0m\u001b[1;33m)\u001b[0m \u001b[1;33m/\u001b[0m \u001b[0mlen\u001b[0m\u001b[1;33m(\u001b[0m\u001b[0mrow\u001b[0m\u001b[1;33m)\u001b[0m\u001b[1;33m)\u001b[0m\u001b[1;33m\u001b[0m\u001b[1;33m\u001b[0m\u001b[0m\n\u001b[0m\u001b[0;32m     56\u001b[0m \u001b[1;33m\u001b[0m\u001b[0m\n\u001b[0;32m     57\u001b[0m     \u001b[1;32mreturn\u001b[0m \u001b[0mtheta\u001b[0m\u001b[1;33m\u001b[0m\u001b[1;33m\u001b[0m\u001b[0m\n",
      "\u001b[1;31mTypeError\u001b[0m: 'numpy.float64' object does not support item assignment"
     ]
    }
   ],
   "metadata": {}
  },
  {
   "cell_type": "markdown",
   "source": [
    "Finally, we test the linear inference behavior of your model."
   ],
   "metadata": {}
  },
  {
   "cell_type": "code",
   "execution_count": null,
   "source": [
    "# perform prediction on the test set\r\n",
    "Y_pred = linreg.predict(X_test, theta)\r\n",
    "en = linreg.energy(Y_pred, Y_test)\r\n",
    "print(f\"MSE loss on test data: {en / num_test}\") # printing the MSE loss"
   ],
   "outputs": [],
   "metadata": {}
  },
  {
   "cell_type": "code",
   "execution_count": null,
   "source": [
    "# test your implementation\r\n",
    "np.random.seed(0)\r\n",
    "pred_ass = linreg.predict(np.random.randn(5, 4),\r\n",
    "                          np.random.randn(5))\r\n",
    "en_ass = linreg.energy(np.random.randn(3), np.random.randn(3))\r\n",
    "assert np.abs(pred_ass[0] + 2.7894) <= 1e-4, \"Wrong prediction!\"\r\n",
    "assert np.abs(en_ass - 11.0667) <= 1e-4, \"Wrong energy!\""
   ],
   "outputs": [],
   "metadata": {}
  }
 ],
 "metadata": {
  "kernelspec": {
   "name": "python3",
   "display_name": "Python 3.8.1 64-bit"
  },
  "language_info": {
   "codemirror_mode": {
    "name": "ipython",
    "version": 3
   },
   "file_extension": ".py",
   "mimetype": "text/x-python",
   "name": "python",
   "nbconvert_exporter": "python",
   "pygments_lexer": "ipython3",
   "version": "3.8.1"
  },
  "interpreter": {
   "hash": "1243da70f6ab4a18b5d87681ede75dca7e96fbca87cdd6995fc50834509ae704"
  }
 },
 "nbformat": 4,
 "nbformat_minor": 2
}